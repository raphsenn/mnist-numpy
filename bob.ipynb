{
 "cells": [
  {
   "cell_type": "code",
   "execution_count": 8,
   "metadata": {},
   "outputs": [],
   "source": [
    "import numpy as np\n",
    "import pandas as pd"
   ]
  },
  {
   "cell_type": "code",
   "execution_count": 9,
   "metadata": {},
   "outputs": [],
   "source": [
    "np.random.seed(42)"
   ]
  },
  {
   "cell_type": "code",
   "execution_count": 10,
   "metadata": {},
   "outputs": [],
   "source": [
    "df_train = pd.read_csv('mnist_train.csv')\n",
    "df_test = pd.read_csv('mnist_test.csv')"
   ]
  },
  {
   "cell_type": "code",
   "execution_count": 11,
   "metadata": {},
   "outputs": [],
   "source": [
    "X_train, y_train = np.array(df_train.drop(columns=['label']))/255, np.array(df_train['label'])\n",
    "X_test, y_test = np.array(df_test.drop(columns=['label']))/255, np.array(df_test['label'])"
   ]
  },
  {
   "cell_type": "code",
   "execution_count": 12,
   "metadata": {},
   "outputs": [
    {
     "name": "stdout",
     "output_type": "stream",
     "text": [
      "Shape of X_train: (60000, 784)\tShape of y_train: (60000,)\n",
      "Shape of X_test:  (10000, 784)\tShape of y_test:  (10000,)\n"
     ]
    }
   ],
   "source": [
    "print(f'Shape of X_train: {X_train.shape}\\tShape of y_train: {y_train.shape}')\n",
    "print(f'Shape of X_test:  {X_test.shape}\\tShape of y_test:  {y_test.shape}')"
   ]
  },
  {
   "cell_type": "code",
   "execution_count": 13,
   "metadata": {},
   "outputs": [],
   "source": [
    "import numpy as np\n",
    "\n",
    "\n",
    "def relu(z: np.ndarray, derv: bool=False) -> np.ndarray:\n",
    "    if derv: return np.where(z > 0, 1, 0) \n",
    "    return np.maximum(z, 0)\n",
    "\n",
    "\n",
    "def softmax(z: np.ndarray, derv: bool=False) -> np.ndarray:\n",
    "    return np.exp(z) / np.sum(np.exp(z), axis=1, keepdims=True)\n",
    "\n",
    "\n",
    "def one_hot(y: np.ndarray, num_classes: int=10) -> np.ndarray:\n",
    "    y_hot = np.zeros((len(y), num_classes))\n",
    "    y_hot[range(y.shape[0]), y] = 1\n",
    "    return y_hot\n",
    "\n",
    "\n",
    "class BobNet:\n",
    "    def __init__(self, n_in: int, n_hidden: int, n_out: int) -> None:\n",
    "        self.w1 = np.random.rand(n_in, n_hidden)-0.5\n",
    "        self.b1 = np.random.rand(n_hidden)-0.5\n",
    "        self.w2 = np.random.rand(n_hidden, n_out)-0.5\n",
    "        self.b2 = np.random.rand(n_out)-0.5\n",
    "\n",
    "    def fit(self,\n",
    "            X: np.ndarray,\n",
    "            y: np.ndarray,\n",
    "            lr: float=0.1,\n",
    "            epochs: int=100, \n",
    "            batch_size: int=32,\n",
    "            verbose: bool=True) -> None:\n",
    "        N = X.shape[0] \n",
    "\n",
    "        # Simple implementation of Stochastic Gradient Descent\n",
    "        for epoch in range(epochs):\n",
    "            # Shuffle dataset\n",
    "            indices = np.random.permutation(N)\n",
    "            X, y = X[indices], y[indices]    \n",
    "            y_hot = one_hot(y)\n",
    "\n",
    "            for i in range(0, N, batch_size):\n",
    "                X_batch, y_batch = X[i:i+batch_size], y[i:i+batch_size]\n",
    "                y_batch_hot = one_hot(y_batch, num_classes=self.w2.shape[1])\n",
    "\n",
    "                # Forward pass\n",
    "                z1 = np.dot(X_batch, self.w1) + self.b1                     # N x 512\n",
    "                h1 = relu(z1)                                               # N x 512\n",
    "                z2 = np.dot(h1, self.w2) + self.b2                          # N x 10\n",
    "                h2 = softmax(z2)                                            # N x 10\n",
    "\n",
    "                # Backpropagation\n",
    "                dz2 = (h2 - y_batch_hot)                                    # N x 10\n",
    "                dw2 = np.dot(h1.T, dz2)                                     # 512 x 10\n",
    "                db2 = np.sum(dz2, axis=0)\n",
    "\n",
    "                dh1 = np.dot(dz2, self.w2.T)                                # N x 512\n",
    "                dz1 = dh1 * relu(z1, derv=True)                             # N x 512\n",
    "                dw1 = np.dot(X_batch.T, dh1)                                # 784 x 512\n",
    "                db1 = np.sum(dz1, axis=0)\n",
    "\n",
    "                # Update Parameters\n",
    "                self.w2 = self.w2 - lr * dw2\n",
    "                self.b2 = self.b2 - lr * db2\n",
    "                self.w1 = self.w1 - lr * dw1\n",
    "                self.b1 = self.b1 - lr * db1\n",
    "\n",
    "            if verbose and epoch % 10 == 0:\n",
    "                y_hat = self.forward(X)\n",
    "                cross_entropy = - np.sum(y_hot * np.log(y_hat))/N\n",
    "                y_hat = np.argmax(y_hat, 1) \n",
    "                accuracy = (y_hat == y).mean()\n",
    "                print(f'Epoch: {epoch}\\tCross-Entropy: {cross_entropy:.2f}\\tAccuracy: {accuracy:.2f}')\n",
    "\n",
    "    def forward(self, x: np.ndarray) -> np.ndarray:\n",
    "        x = np.dot(x, self.w1) + self.b1\n",
    "        x = relu(x)\n",
    "        x = np.dot(x, self.w2) + self.b2\n",
    "        x = softmax(x)\n",
    "        return x\n",
    "\n",
    "    def predict(self, x: np.ndarray) -> np.ndarray:\n",
    "        out = self.forward(x)\n",
    "        out = np.argmax(out, 1)\n",
    "        return out"
   ]
  },
  {
   "cell_type": "code",
   "execution_count": 14,
   "metadata": {},
   "outputs": [
    {
     "name": "stdout",
     "output_type": "stream",
     "text": [
      "Epoch: 0\tCross-Entropy: 1.30\tAccuracy: 0.57\n",
      "Epoch: 10\tCross-Entropy: 0.55\tAccuracy: 0.83\n",
      "Epoch: 20\tCross-Entropy: 0.50\tAccuracy: 0.85\n",
      "Epoch: 30\tCross-Entropy: 0.50\tAccuracy: 0.85\n",
      "Epoch: 40\tCross-Entropy: 0.53\tAccuracy: 0.84\n",
      "Epoch: 50\tCross-Entropy: 0.57\tAccuracy: 0.83\n",
      "Epoch: 60\tCross-Entropy: 0.61\tAccuracy: 0.81\n",
      "Epoch: 70\tCross-Entropy: 0.64\tAccuracy: 0.80\n",
      "Epoch: 80\tCross-Entropy: 0.66\tAccuracy: 0.79\n",
      "Epoch: 90\tCross-Entropy: 0.67\tAccuracy: 0.79\n",
      "Epoch: 100\tCross-Entropy: 0.67\tAccuracy: 0.79\n",
      "Epoch: 110\tCross-Entropy: 0.68\tAccuracy: 0.78\n",
      "Epoch: 120\tCross-Entropy: 0.70\tAccuracy: 0.78\n",
      "Epoch: 130\tCross-Entropy: 0.69\tAccuracy: 0.78\n",
      "Epoch: 140\tCross-Entropy: 0.70\tAccuracy: 0.78\n",
      "Epoch: 150\tCross-Entropy: 0.71\tAccuracy: 0.78\n",
      "Epoch: 160\tCross-Entropy: 0.71\tAccuracy: 0.78\n",
      "Epoch: 170\tCross-Entropy: 0.71\tAccuracy: 0.78\n",
      "Epoch: 180\tCross-Entropy: 0.72\tAccuracy: 0.78\n"
     ]
    },
    {
     "ename": "KeyboardInterrupt",
     "evalue": "",
     "output_type": "error",
     "traceback": [
      "\u001b[0;31m---------------------------------------------------------------------------\u001b[0m",
      "\u001b[0;31mKeyboardInterrupt\u001b[0m                         Traceback (most recent call last)",
      "Cell \u001b[0;32mIn[14], line 3\u001b[0m\n\u001b[1;32m      1\u001b[0m \u001b[38;5;66;03m# Create the neural network, train and predict\u001b[39;00m\n\u001b[1;32m      2\u001b[0m bobnet \u001b[38;5;241m=\u001b[39m BobNet(n_in\u001b[38;5;241m=\u001b[39m\u001b[38;5;241m784\u001b[39m, n_hidden\u001b[38;5;241m=\u001b[39m\u001b[38;5;241m10\u001b[39m, n_out\u001b[38;5;241m=\u001b[39m\u001b[38;5;241m10\u001b[39m)\n\u001b[0;32m----> 3\u001b[0m \u001b[43mbobnet\u001b[49m\u001b[38;5;241;43m.\u001b[39;49m\u001b[43mfit\u001b[49m\u001b[43m(\u001b[49m\u001b[43mX_train\u001b[49m\u001b[43m,\u001b[49m\u001b[43m \u001b[49m\u001b[43my_train\u001b[49m\u001b[43m,\u001b[49m\u001b[43m \u001b[49m\u001b[43mlr\u001b[49m\u001b[38;5;241;43m=\u001b[39;49m\u001b[38;5;241;43m0.0001\u001b[39;49m\u001b[43m,\u001b[49m\u001b[43m \u001b[49m\u001b[43mepochs\u001b[49m\u001b[38;5;241;43m=\u001b[39;49m\u001b[38;5;241;43m200\u001b[39;49m\u001b[43m)\u001b[49m\n\u001b[1;32m      4\u001b[0m y_hat \u001b[38;5;241m=\u001b[39m bobnet\u001b[38;5;241m.\u001b[39mpredict(X_test)\n\u001b[1;32m      5\u001b[0m accuracy \u001b[38;5;241m=\u001b[39m (y_hat \u001b[38;5;241m==\u001b[39m y_test)\u001b[38;5;241m.\u001b[39mmean()\n",
      "Cell \u001b[0;32mIn[13], line 40\u001b[0m, in \u001b[0;36mBobNet.fit\u001b[0;34m(self, X, y, lr, epochs, batch_size, verbose)\u001b[0m\n\u001b[1;32m     38\u001b[0m indices \u001b[38;5;241m=\u001b[39m np\u001b[38;5;241m.\u001b[39mrandom\u001b[38;5;241m.\u001b[39mpermutation(N)\n\u001b[1;32m     39\u001b[0m X, y \u001b[38;5;241m=\u001b[39m X[indices], y[indices]    \n\u001b[0;32m---> 40\u001b[0m y_hot \u001b[38;5;241m=\u001b[39m \u001b[43mone_hot\u001b[49m\u001b[43m(\u001b[49m\u001b[43my\u001b[49m\u001b[43m)\u001b[49m\n\u001b[1;32m     42\u001b[0m \u001b[38;5;28;01mfor\u001b[39;00m i \u001b[38;5;129;01min\u001b[39;00m \u001b[38;5;28mrange\u001b[39m(\u001b[38;5;241m0\u001b[39m, N, batch_size):\n\u001b[1;32m     43\u001b[0m     X_batch, y_batch \u001b[38;5;241m=\u001b[39m X[i:i\u001b[38;5;241m+\u001b[39mbatch_size], y[i:i\u001b[38;5;241m+\u001b[39mbatch_size]\n",
      "Cell \u001b[0;32mIn[13], line 13\u001b[0m, in \u001b[0;36mone_hot\u001b[0;34m(y, num_classes)\u001b[0m\n\u001b[1;32m      9\u001b[0m \u001b[38;5;28;01mdef\u001b[39;00m \u001b[38;5;21msoftmax\u001b[39m(z: np\u001b[38;5;241m.\u001b[39mndarray, derv: \u001b[38;5;28mbool\u001b[39m\u001b[38;5;241m=\u001b[39m\u001b[38;5;28;01mFalse\u001b[39;00m) \u001b[38;5;241m-\u001b[39m\u001b[38;5;241m>\u001b[39m np\u001b[38;5;241m.\u001b[39mndarray:\n\u001b[1;32m     10\u001b[0m     \u001b[38;5;28;01mreturn\u001b[39;00m np\u001b[38;5;241m.\u001b[39mexp(z) \u001b[38;5;241m/\u001b[39m np\u001b[38;5;241m.\u001b[39msum(np\u001b[38;5;241m.\u001b[39mexp(z), axis\u001b[38;5;241m=\u001b[39m\u001b[38;5;241m1\u001b[39m, keepdims\u001b[38;5;241m=\u001b[39m\u001b[38;5;28;01mTrue\u001b[39;00m)\n\u001b[0;32m---> 13\u001b[0m \u001b[38;5;28;01mdef\u001b[39;00m \u001b[38;5;21mone_hot\u001b[39m(y: np\u001b[38;5;241m.\u001b[39mndarray, num_classes: \u001b[38;5;28mint\u001b[39m\u001b[38;5;241m=\u001b[39m\u001b[38;5;241m10\u001b[39m) \u001b[38;5;241m-\u001b[39m\u001b[38;5;241m>\u001b[39m np\u001b[38;5;241m.\u001b[39mndarray:\n\u001b[1;32m     14\u001b[0m     y_hot \u001b[38;5;241m=\u001b[39m np\u001b[38;5;241m.\u001b[39mzeros((\u001b[38;5;28mlen\u001b[39m(y), num_classes))\n\u001b[1;32m     15\u001b[0m     y_hot[\u001b[38;5;28mrange\u001b[39m(y\u001b[38;5;241m.\u001b[39mshape[\u001b[38;5;241m0\u001b[39m]), y] \u001b[38;5;241m=\u001b[39m \u001b[38;5;241m1\u001b[39m\n",
      "\u001b[0;31mKeyboardInterrupt\u001b[0m: "
     ]
    }
   ],
   "source": [
    "# Create the neural network, train and predict\n",
    "bobnet = BobNet(n_in=784, n_hidden=10, n_out=10)\n",
    "bobnet.fit(X_train, y_train, lr=0.0001, epochs=200)\n",
    "y_hat = bobnet.predict(X_test)\n",
    "accuracy = (y_hat == y_test).mean()"
   ]
  },
  {
   "cell_type": "code",
   "execution_count": null,
   "metadata": {},
   "outputs": [
    {
     "name": "stdout",
     "output_type": "stream",
     "text": [
      "0.8585\n"
     ]
    }
   ],
   "source": [
    "print(accuracy)"
   ]
  },
  {
   "cell_type": "code",
   "execution_count": null,
   "metadata": {},
   "outputs": [
    {
     "name": "stdout",
     "output_type": "stream",
     "text": [
      "[1 3]\n",
      "[[-2.44113167e-01  1.34625325e-01  3.48583676e-01 -2.62225624e-01\n",
      "  -7.87520094e-02 -7.36219330e-02  1.43504740e-01 -2.72862822e-01\n",
      "  -4.13564424e-01 -3.02647020e-01]\n",
      " [ 1.20758518e-01 -5.97291748e-03 -7.23513346e-01 -1.11871907e-01\n",
      "  -2.26745463e-01  3.27218130e-01 -2.39835122e-01 -4.30476003e-01\n",
      "  -2.70892891e-01 -3.53388176e-01]\n",
      " [ 5.78631512e-01 -5.26739668e-01  4.27947488e-01  1.46993633e-01\n",
      "  -1.10748298e-01  2.71737582e-01  4.22454769e-01 -5.93473867e-01\n",
      "   1.52633047e-01 -2.54043501e-01]\n",
      " [-8.43559549e-01  2.24533681e-01 -2.36529355e-01  4.93259903e-01\n",
      "  -2.08561809e-01 -1.57497257e-03 -3.69926905e-01 -2.69516748e-01\n",
      "   3.06979344e-01  1.01811652e-01]\n",
      " [-6.32251938e-01  1.83496072e-01  4.39026330e-01  2.05828447e-01\n",
      "   5.43390536e-01 -3.36553512e-01  3.21046980e-01  3.30465993e-01\n",
      "  -7.72450124e-01  2.93759467e-01]\n",
      " [ 3.13139416e-01 -1.19851188e-01  2.36400602e-01  1.99092593e-01\n",
      "  -7.94919824e-01  2.84762436e-01 -5.57377602e-01  5.82158998e-01\n",
      "  -3.98869653e-01 -2.44654687e-02]\n",
      " [ 3.39949589e-01 -9.09812104e-02 -4.38348697e-03 -4.56846085e-01\n",
      "  -4.22563973e-01 -2.72054564e-01  1.90294824e-01 -3.07601435e-01\n",
      "  -4.15672645e-01 -1.06067930e-01]\n",
      " [-3.64814481e-01  8.41252844e-02  6.79493183e-02 -5.89962424e-01\n",
      "   4.94618697e-01  2.70207919e-01  7.62830278e-01 -3.81226889e-04\n",
      "   7.51768632e-02 -3.22544813e-01]\n",
      " [-1.88960592e-02 -6.69100919e-01 -7.72750294e-02 -4.18110664e-01\n",
      "   2.52589701e-01  4.42822707e-02 -3.37385030e-01  2.26411108e-01\n",
      "   3.06328284e-01  5.30247199e-01]\n",
      " [-5.45933435e-01  7.31536063e-01  6.62315447e-01 -2.76118733e-01\n",
      "  -4.98678349e-01  3.08404815e-02  1.36655480e-01  4.68032413e-01\n",
      "   2.05390570e-01 -7.57463602e-01]]\n"
     ]
    }
   ],
   "source": [
    "y = np.array([[0.2, 0.4, 0.2, 0.2], [0.1, 0.1, 0.1, 0.6]])\n",
    "print(np.argmax(y, 1))\n",
    "\n",
    "print(bobnet.w2)\n"
   ]
  },
  {
   "cell_type": "code",
   "execution_count": null,
   "metadata": {},
   "outputs": [
    {
     "name": "stdout",
     "output_type": "stream",
     "text": [
      "[[0. 0. 0. ... 0. 0. 0.]\n",
      " [1. 0. 0. ... 0. 0. 0.]\n",
      " [0. 0. 0. ... 0. 0. 0.]\n",
      " ...\n",
      " [0. 0. 0. ... 0. 0. 0.]\n",
      " [0. 0. 0. ... 0. 0. 0.]\n",
      " [0. 0. 0. ... 0. 1. 0.]]\n",
      "4\n",
      "[[0. 0. 0. ... 0. 0. 0.]\n",
      " [1. 0. 0. ... 0. 0. 0.]\n",
      " [0. 0. 0. ... 0. 0. 0.]\n",
      " ...\n",
      " [0. 0. 0. ... 0. 0. 0.]\n",
      " [0. 0. 0. ... 0. 0. 0.]\n",
      " [0. 0. 0. ... 0. 1. 0.]]\n"
     ]
    }
   ],
   "source": [
    "#y = np.array([0, 5, 2, 6, 2, 4, 2, 9])\n",
    "\n",
    "y = y_train\n",
    "\n",
    "preds = np.zeros((len(y), 10), dtype=np.float32)\n",
    "preds[range(y.shape[0]), y] = 1\n",
    "\n",
    "a = np.argmax(y, axis=0)\n",
    "\n",
    "print(preds)\n",
    "print(a)\n",
    "\n",
    "y_hot = np.eye(10)[y]\n",
    "print(y_hot)"
   ]
  }
 ],
 "metadata": {
  "kernelspec": {
   "display_name": "Python 3",
   "language": "python",
   "name": "python3"
  },
  "language_info": {
   "codemirror_mode": {
    "name": "ipython",
    "version": 3
   },
   "file_extension": ".py",
   "mimetype": "text/x-python",
   "name": "python",
   "nbconvert_exporter": "python",
   "pygments_lexer": "ipython3",
   "version": "3.12.5"
  }
 },
 "nbformat": 4,
 "nbformat_minor": 2
}
